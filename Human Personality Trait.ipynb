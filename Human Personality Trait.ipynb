{
 "cells": [
  {
   "cell_type": "markdown",
   "id": "e9166444-2efc-4dbb-81ff-13f7e8cf71c2",
   "metadata": {},
   "source": [
    "## Data Exploration"
   ]
  },
  {
   "cell_type": "code",
   "execution_count": 1,
   "id": "ca35915d-21aa-45b7-92ab-190413a703df",
   "metadata": {},
   "outputs": [],
   "source": [
    "import pandas as pd\n",
    "import matplotlib.pyplot as plt\n",
    "import seaborn as sns"
   ]
  },
  {
   "cell_type": "code",
   "execution_count": 3,
   "id": "12d4ea62-08be-4fa8-804d-32777f2e0349",
   "metadata": {},
   "outputs": [],
   "source": [
    "# Load the dataset \n",
    "df = pd.read_csv(\"C:/Users/Dell/OneDrive/Desktop/Project/personality_synthetic_dataset.csv\")\n"
   ]
  },
  {
   "cell_type": "code",
   "execution_count": 5,
   "id": "fc06a3aa-a296-4120-9d3e-99d00f249601",
   "metadata": {},
   "outputs": [
    {
     "name": "stdout",
     "output_type": "stream",
     "text": [
      "<class 'pandas.core.frame.DataFrame'>\n",
      "RangeIndex: 20000 entries, 0 to 19999\n",
      "Data columns (total 30 columns):\n",
      " #   Column                    Non-Null Count  Dtype  \n",
      "---  ------                    --------------  -----  \n",
      " 0   personality_type          20000 non-null  object \n",
      " 1   social_energy             20000 non-null  float64\n",
      " 2   alone_time_preference     20000 non-null  float64\n",
      " 3   talkativeness             20000 non-null  float64\n",
      " 4   deep_reflection           20000 non-null  float64\n",
      " 5   group_comfort             20000 non-null  float64\n",
      " 6   party_liking              20000 non-null  float64\n",
      " 7   listening_skill           20000 non-null  float64\n",
      " 8   empathy                   20000 non-null  float64\n",
      " 9   creativity                20000 non-null  float64\n",
      " 10  organization              20000 non-null  float64\n",
      " 11  leadership                20000 non-null  float64\n",
      " 12  risk_taking               20000 non-null  float64\n",
      " 13  public_speaking_comfort   20000 non-null  float64\n",
      " 14  curiosity                 20000 non-null  float64\n",
      " 15  routine_preference        20000 non-null  float64\n",
      " 16  excitement_seeking        20000 non-null  float64\n",
      " 17  friendliness              20000 non-null  float64\n",
      " 18  emotional_stability       20000 non-null  float64\n",
      " 19  planning                  20000 non-null  float64\n",
      " 20  spontaneity               20000 non-null  float64\n",
      " 21  adventurousness           20000 non-null  float64\n",
      " 22  reading_habit             20000 non-null  float64\n",
      " 23  sports_interest           20000 non-null  float64\n",
      " 24  online_social_usage       20000 non-null  float64\n",
      " 25  travel_desire             20000 non-null  float64\n",
      " 26  gadget_usage              20000 non-null  float64\n",
      " 27  work_style_collaborative  20000 non-null  float64\n",
      " 28  decision_speed            20000 non-null  float64\n",
      " 29  stress_handling           20000 non-null  float64\n",
      "dtypes: float64(29), object(1)\n",
      "memory usage: 4.6+ MB\n",
      "None\n"
     ]
    }
   ],
   "source": [
    "# Show basic info\n",
    "print(df.info())"
   ]
  },
  {
   "cell_type": "code",
   "execution_count": 6,
   "id": "56c9fadd-6e28-4b75-b6d4-55c228036e58",
   "metadata": {},
   "outputs": [
    {
     "name": "stdout",
     "output_type": "stream",
     "text": [
      "personality_type\n",
      "Extrovert    6857\n",
      "Ambivert     6573\n",
      "Introvert    6570\n",
      "Name: count, dtype: int64\n"
     ]
    }
   ],
   "source": [
    "# Class distribution of personality type\n",
    "print(df[\"personality_type\"].value_counts())\n"
   ]
  },
  {
   "cell_type": "code",
   "execution_count": 7,
   "id": "3947a257-7fd1-433a-8968-9e25dfcbddfc",
   "metadata": {},
   "outputs": [
    {
     "name": "stderr",
     "output_type": "stream",
     "text": [
      "C:\\Users\\Dell\\AppData\\Local\\Temp\\ipykernel_1412\\3300780363.py:3: FutureWarning: \n",
      "\n",
      "Passing `palette` without assigning `hue` is deprecated and will be removed in v0.14.0. Assign the `x` variable to `hue` and set `legend=False` for the same effect.\n",
      "\n",
      "  sns.countplot(data=df, x=\"personality_type\", palette=\"Set2\")\n"
     ]
    },
    {
     "data": {
      "image/png": "[encoded data removed]",
      "text/plain": [
       "<Figure size 600x400 with 1 Axes>"
      ]
     },
     "metadata": {},
     "output_type": "display_data"
    }
   ],
   "source": [
    "# Plot the distribution of the target class\n",
    "plt.figure(figsize=(6,4))\n",
    "sns.countplot(data=df, x=\"personality_type\", palette=\"Set2\")\n",
    "plt.title(\"Personality Type Distribution\")\n",
    "plt.xlabel(\"Personality Type\")\n",
    "plt.ylabel(\"Count\")\n",
    "plt.show()"
   ]
  },
  {
   "cell_type": "code",
   "execution_count": 8,
   "id": "2964a2a6-ad9d-40c9-9194-9643b9531745",
   "metadata": {},
   "outputs": [
    {
     "name": "stdout",
     "output_type": "stream",
     "text": [
      "personality_type            0\n",
      "social_energy               0\n",
      "alone_time_preference       0\n",
      "talkativeness               0\n",
      "deep_reflection             0\n",
      "group_comfort               0\n",
      "party_liking                0\n",
      "listening_skill             0\n",
      "empathy                     0\n",
      "creativity                  0\n",
      "organization                0\n",
      "leadership                  0\n",
      "risk_taking                 0\n",
      "public_speaking_comfort     0\n",
      "curiosity                   0\n",
      "routine_preference          0\n",
      "excitement_seeking          0\n",
      "friendliness                0\n",
      "emotional_stability         0\n",
      "planning                    0\n",
      "spontaneity                 0\n",
      "adventurousness             0\n",
      "reading_habit               0\n",
      "sports_interest             0\n",
      "online_social_usage         0\n",
      "travel_desire               0\n",
      "gadget_usage                0\n",
      "work_style_collaborative    0\n",
      "decision_speed              0\n",
      "stress_handling             0\n",
      "dtype: int64\n"
     ]
    }
   ],
   "source": [
    "# Check for missing values\n",
    "print(df.isnull().sum())"
   ]
  },
  {
   "cell_type": "markdown",
   "id": "e9c1e3a0-3af9-4529-ac7c-f3dfc8fe8a29",
   "metadata": {},
   "source": [
    "## Data Preprocessing"
   ]
  },
  {
   "cell_type": "code",
   "execution_count": 9,
   "id": "c4f20714-e393-4283-a127-c35a889a72f8",
   "metadata": {},
   "outputs": [],
   "source": [
    "from sklearn.model_selection import train_test_split\n",
    "from sklearn.preprocessing import LabelEncoder, StandardScaler"
   ]
  },
  {
   "cell_type": "code",
   "execution_count": 10,
   "id": "163a82fc-529c-4e41-a3e6-0b524de5d940",
   "metadata": {},
   "outputs": [],
   "source": [
    "# Encode target variable\n",
    "le = LabelEncoder()\n",
    "df['personality_type_encoded'] = le.fit_transform(df['personality_type'])"
   ]
  },
  {
   "cell_type": "code",
   "execution_count": 11,
   "id": "1a77bcee-d9ab-4546-a3ac-a6b6936e170d",
   "metadata": {},
   "outputs": [],
   "source": [
    "# Separate features and target\n",
    "X = df.drop(columns=['personality_type', 'personality_type_encoded'])\n",
    "y = df['personality_type_encoded']\n"
   ]
  },
  {
   "cell_type": "code",
   "execution_count": 12,
   "id": "85880e69-e5ae-437c-abfe-c0740b63bb69",
   "metadata": {},
   "outputs": [],
   "source": [
    "# Scale Feautres\n",
    "scaler = StandardScaler()\n",
    "X_scaled = scaler.fit_transform(X)"
   ]
  },
  {
   "cell_type": "code",
   "execution_count": 13,
   "id": "8209e49d-5d88-49d7-a0ea-66575a75ca72",
   "metadata": {},
   "outputs": [],
   "source": [
    "# Train-test split (80% train, 20% test)\n",
    "X_train, X_test, y_train, y_test = train_test_split(\n",
    "    X_scaled, y, test_size=0.2, random_state=42, stratify=y)"
   ]
  },
  {
   "cell_type": "code",
   "execution_count": 14,
   "id": "b472ff1e-c15d-439a-8c73-81bff29b45d4",
   "metadata": {},
   "outputs": [
    {
     "name": "stdout",
     "output_type": "stream",
     "text": [
      "Train shape: (16000, 29)\n",
      "Test shape: (4000, 29)\n"
     ]
    }
   ],
   "source": [
    "# Print Shape\n",
    "print(\"Train shape:\", X_train.shape)\n",
    "print(\"Test shape:\", X_test.shape)"
   ]
  },
  {
   "cell_type": "markdown",
   "id": "74c7a45a-de47-407b-962e-b0323ba38bbf",
   "metadata": {},
   "source": [
    "## Model Training and Evaluation"
   ]
  },
  {
   "cell_type": "code",
   "execution_count": 16,
   "id": "835c5373-840f-40d2-b384-50e067c8e9eb",
   "metadata": {},
   "outputs": [],
   "source": [
    "from sklearn.linear_model import LogisticRegression\n",
    "from sklearn.ensemble import RandomForestClassifier\n",
    "from sklearn.svm import SVC\n",
    "from sklearn.metrics import classification_report, confusion_matrix"
   ]
  },
  {
   "cell_type": "code",
   "execution_count": 17,
   "id": "245adef7-4ee6-49f3-acdb-c27841f0bc78",
   "metadata": {},
   "outputs": [],
   "source": [
    "# Logistic Regression\n",
    "lr = LogisticRegression(max_iter=1000)\n",
    "lr.fit(X_train, y_train)\n",
    "y_pred_lr = lr.predict(X_test)"
   ]
  },
  {
   "cell_type": "code",
   "execution_count": 18,
   "id": "ebe4426d-8efe-4488-aa34-75a2d0da6342",
   "metadata": {},
   "outputs": [],
   "source": [
    "# Random Forest\n",
    "rf = RandomForestClassifier()\n",
    "rf.fit(X_train, y_train)\n",
    "y_pred_rf = rf.predict(X_test)"
   ]
  },
  {
   "cell_type": "code",
   "execution_count": 19,
   "id": "0a476f0e-494a-4b9d-a118-70c11fa5d8ba",
   "metadata": {},
   "outputs": [],
   "source": [
    "# Support Vector Machine\n",
    "svm = SVC()\n",
    "svm.fit(X_train, y_train)\n",
    "y_pred_svm = svm.predict(X_test)"
   ]
  },
  {
   "cell_type": "markdown",
   "id": "cd127a71-d78e-4b6e-9fd3-b37b6fccd29e",
   "metadata": {},
   "source": [
    "#### Evaluate all Models"
   ]
  },
  {
   "cell_type": "code",
   "execution_count": 20,
   "id": "f497e174-f931-4bc3-a52a-6d29cadae499",
   "metadata": {},
   "outputs": [
    {
     "name": "stdout",
     "output_type": "stream",
     "text": [
      " Logistic Regression \n",
      "              precision    recall  f1-score   support\n",
      "\n",
      "           0       1.00      1.00      1.00      1315\n",
      "           1       1.00      1.00      1.00      1371\n",
      "           2       1.00      1.00      1.00      1314\n",
      "\n",
      "    accuracy                           1.00      4000\n",
      "   macro avg       1.00      1.00      1.00      4000\n",
      "weighted avg       1.00      1.00      1.00      4000\n",
      "\n",
      "[[1313    1    1]\n",
      " [   3 1368    0]\n",
      " [   3    0 1311]]\n"
     ]
    }
   ],
   "source": [
    "print(\" Logistic Regression \")\n",
    "print(classification_report(y_test, y_pred_lr))\n",
    "print(confusion_matrix(y_test, y_pred_lr))"
   ]
  },
  {
   "cell_type": "code",
   "execution_count": 21,
   "id": "975cda8b-1353-488d-9ad9-6566465b024b",
   "metadata": {},
   "outputs": [
    {
     "name": "stdout",
     "output_type": "stream",
     "text": [
      " Random Forest \n",
      "              precision    recall  f1-score   support\n",
      "\n",
      "           0       0.99      1.00      0.99      1315\n",
      "           1       1.00      0.99      1.00      1371\n",
      "           2       1.00      1.00      1.00      1314\n",
      "\n",
      "    accuracy                           1.00      4000\n",
      "   macro avg       1.00      1.00      1.00      4000\n",
      "weighted avg       1.00      1.00      1.00      4000\n",
      "\n",
      "[[1310    2    3]\n",
      " [   8 1363    0]\n",
      " [   5    0 1309]]\n"
     ]
    }
   ],
   "source": [
    "print(\" Random Forest \")\n",
    "print(classification_report(y_test, y_pred_rf))\n",
    "print(confusion_matrix(y_test, y_pred_rf))\n"
   ]
  },
  {
   "cell_type": "code",
   "execution_count": 22,
   "id": "82a9b9e0-b475-4ec5-98cc-c11c9312e0bb",
   "metadata": {},
   "outputs": [
    {
     "name": "stdout",
     "output_type": "stream",
     "text": [
      " SVM \n",
      "              precision    recall  f1-score   support\n",
      "\n",
      "           0       1.00      1.00      1.00      1315\n",
      "           1       1.00      1.00      1.00      1371\n",
      "           2       1.00      1.00      1.00      1314\n",
      "\n",
      "    accuracy                           1.00      4000\n",
      "   macro avg       1.00      1.00      1.00      4000\n",
      "weighted avg       1.00      1.00      1.00      4000\n",
      "\n",
      "[[1313    1    1]\n",
      " [   3 1368    0]\n",
      " [   1    0 1313]]\n"
     ]
    }
   ],
   "source": [
    "print(\" SVM \")\n",
    "print(classification_report(y_test, y_pred_svm))\n",
    "print(confusion_matrix(y_test, y_pred_svm))"
   ]
  },
  {
   "cell_type": "markdown",
   "id": "7d4a8097-55bb-40c0-9c3f-8eea31b7bcd7",
   "metadata": {},
   "source": [
    "## Exporting Data for PowerBI visualization\n"
   ]
  },
  {
   "cell_type": "code",
   "execution_count": 23,
   "id": "ce3f69de-1564-4845-9915-2e9d6bd35136",
   "metadata": {},
   "outputs": [],
   "source": [
    "# Re-attach the original personality_type column and predictions\n",
    "df_export = pd.DataFrame(X_scaled, columns=X.columns)\n",
    "df_export['personality_type'] = df['personality_type']\n",
    "df_export['personality_type_encoded'] = df['personality_type_encoded']"
   ]
  },
  {
   "cell_type": "code",
   "execution_count": 24,
   "id": "5a6afb55-bd7e-415f-941d-488d78cef5d3",
   "metadata": {},
   "outputs": [],
   "source": [
    "# Include predicted labels from best model (e.g., SVM)\n",
    "df_export['predicted'] = SVC().fit(X_train, y_train).predict(X_scaled)"
   ]
  },
  {
   "cell_type": "code",
   "execution_count": 25,
   "id": "0ced1542-e87f-4f93-af33-9f256855e7a7",
   "metadata": {},
   "outputs": [
    {
     "name": "stdout",
     "output_type": "stream",
     "text": [
      "Exported to personality_export_for_powerbi.csv\n"
     ]
    }
   ],
   "source": [
    "# Export to CSV\n",
    "df_export.to_csv(\"personality_export_for_powerbi.csv\", index=False)\n",
    "print(\"Exported to personality_export_for_powerbi.csv\")"
   ]
  },
  {
   "cell_type": "markdown",
   "id": "d1665566-5bee-4906-90a9-6e504c95019a",
   "metadata": {},
   "source": [
    " ## HeatMap Creation"
   ]
  },
  {
   "cell_type": "code",
   "execution_count": 26,
   "id": "c66dd5fc-169f-4bed-ac9f-c0136ab54586",
   "metadata": {},
   "outputs": [],
   "source": [
    "# Drop non-numeric columns for correlation\n",
    "traits_only = df_export.drop(columns=['personality_type', 'personality_type_encoded', 'predicted'])"
   ]
  },
  {
   "cell_type": "code",
   "execution_count": 28,
   "id": "ab6d0bc1-5628-41be-8284-b55eed6086db",
   "metadata": {},
   "outputs": [],
   "source": [
    "# Compute correlation matrix\n",
    "corr_matrix = traits_only.corr()"
   ]
  },
  {
   "cell_type": "code",
   "execution_count": 29,
   "id": "d22d4eaa-f32d-4e0e-8f92-1f1143d6cc44",
   "metadata": {},
   "outputs": [
    {
     "name": "stdout",
     "output_type": "stream",
     "text": [
      "Correlation matrix saved to trait_correlations.csv\n"
     ]
    }
   ],
   "source": [
    "# Save to CSV for Power BI\n",
    "corr_matrix.to_csv(\"trait_correlations.csv\")\n",
    "print(\"Correlation matrix saved to trait_correlations.csv\")"
   ]
  },
  {
   "cell_type": "code",
   "execution_count": null,
   "id": "8032c87c-a9cb-4575-acfc-7fd42508f43c",
   "metadata": {},
   "outputs": [],
   "source": []
  }
 ],
 "metadata": {
  "kernelspec": {
   "display_name": "Python 3 (ipykernel)",
   "language": "python",
   "name": "python3"
  },
  "language_info": {
   "codemirror_mode": {
    "name": "ipython",
    "version": 3
   },
   "file_extension": ".py",
   "mimetype": "text/x-python",
   "name": "python",
   "nbconvert_exporter": "python",
   "pygments_lexer": "ipython3",
   "version": "3.13.5"
  }
 },
 "nbformat": 4,
 "nbformat_minor": 5
}
